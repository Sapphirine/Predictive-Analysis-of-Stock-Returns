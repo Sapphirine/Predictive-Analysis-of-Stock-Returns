{
  "nbformat": 4,
  "nbformat_minor": 0,
  "metadata": {
    "colab": {
      "name": "Historical-data.ipynb",
      "provenance": [],
      "collapsed_sections": []
    },
    "kernelspec": {
      "name": "python3",
      "display_name": "Python 3"
    },
    "accelerator": "GPU"
  },
  "cells": [
    {
      "cell_type": "code",
      "metadata": {
        "id": "WITuk2zrUPmk",
        "colab_type": "code",
        "outputId": "67b062ad-a1a0-4cb5-af74-c8bcb4b7bf09",
        "colab": {
          "base_uri": "https://localhost:8080/",
          "height": 99
        }
      },
      "source": [
        "import numpy as np\n",
        "import pandas as pd\n",
        "from keras.models import Sequential\n",
        "from keras.layers import Dense\n",
        "from keras.wrappers.scikit_learn import KerasRegressor\n",
        "from sklearn.model_selection import cross_val_score\n",
        "from sklearn.model_selection import KFold\n",
        "from sklearn.preprocessing import StandardScaler\n",
        "from sklearn.pipeline import Pipeline\n",
        "from sklearn.preprocessing import MinMaxScaler\n",
        "import matplotlib.pyplot as plt"
      ],
      "execution_count": 0,
      "outputs": [
        {
          "output_type": "stream",
          "text": [
            "Using TensorFlow backend.\n"
          ],
          "name": "stderr"
        },
        {
          "output_type": "display_data",
          "data": {
            "text/html": [
              "<p style=\"color: red;\">\n",
              "The default version of TensorFlow in Colab will soon switch to TensorFlow 2.x.<br>\n",
              "We recommend you <a href=\"https://www.tensorflow.org/guide/migrate\" target=\"_blank\">upgrade</a> now \n",
              "or ensure your notebook will continue to use TensorFlow 1.x via the <code>%tensorflow_version 1.x</code> magic:\n",
              "<a href=\"https://colab.research.google.com/notebooks/tensorflow_version.ipynb\" target=\"_blank\">more info</a>.</p>\n"
            ],
            "text/plain": [
              "<IPython.core.display.HTML object>"
            ]
          },
          "metadata": {
            "tags": []
          }
        }
      ]
    },
    {
      "cell_type": "code",
      "metadata": {
        "id": "MKMuPiTxzXbf",
        "colab_type": "code",
        "outputId": "e81da21f-ff30-460f-89e3-d7b95f3cee97",
        "colab": {
          "base_uri": "https://localhost:8080/",
          "height": 55
        }
      },
      "source": [
        "from google.colab import drive\n",
        "drive.mount('/content/drive')"
      ],
      "execution_count": 0,
      "outputs": [
        {
          "output_type": "stream",
          "text": [
            "Drive already mounted at /content/drive; to attempt to forcibly remount, call drive.mount(\"/content/drive\", force_remount=True).\n"
          ],
          "name": "stdout"
        }
      ]
    },
    {
      "cell_type": "code",
      "metadata": {
        "id": "eLpFve_sVW4v",
        "colab_type": "code",
        "outputId": "5d042c58-9429-462c-b4d6-36b5ce101c5a",
        "colab": {
          "base_uri": "https://localhost:8080/",
          "height": 338
        }
      },
      "source": [
        "dataset = pd.read_csv('/content/drive/My Drive/train.csv (1)/train.csv')\n",
        "dataset.fillna(dataset.mean(axis=0), inplace=True)\n",
        "dataset.head()"
      ],
      "execution_count": 0,
      "outputs": [
        {
          "output_type": "execute_result",
          "data": {
            "text/html": [
              "<div>\n",
              "<style scoped>\n",
              "    .dataframe tbody tr th:only-of-type {\n",
              "        vertical-align: middle;\n",
              "    }\n",
              "\n",
              "    .dataframe tbody tr th {\n",
              "        vertical-align: top;\n",
              "    }\n",
              "\n",
              "    .dataframe thead th {\n",
              "        text-align: right;\n",
              "    }\n",
              "</style>\n",
              "<table border=\"1\" class=\"dataframe\">\n",
              "  <thead>\n",
              "    <tr style=\"text-align: right;\">\n",
              "      <th></th>\n",
              "      <th>Id</th>\n",
              "      <th>Feature_1</th>\n",
              "      <th>Feature_2</th>\n",
              "      <th>Feature_3</th>\n",
              "      <th>Feature_4</th>\n",
              "      <th>Feature_5</th>\n",
              "      <th>Feature_6</th>\n",
              "      <th>Feature_7</th>\n",
              "      <th>Feature_8</th>\n",
              "      <th>Feature_9</th>\n",
              "      <th>Feature_10</th>\n",
              "      <th>Feature_11</th>\n",
              "      <th>Feature_12</th>\n",
              "      <th>Feature_13</th>\n",
              "      <th>Feature_14</th>\n",
              "      <th>Feature_15</th>\n",
              "      <th>Feature_16</th>\n",
              "      <th>Feature_17</th>\n",
              "      <th>Feature_18</th>\n",
              "      <th>Feature_19</th>\n",
              "      <th>Feature_20</th>\n",
              "      <th>Feature_21</th>\n",
              "      <th>Feature_22</th>\n",
              "      <th>Feature_23</th>\n",
              "      <th>Feature_24</th>\n",
              "      <th>Feature_25</th>\n",
              "      <th>Ret_MinusTwo</th>\n",
              "      <th>Ret_MinusOne</th>\n",
              "      <th>Ret_2</th>\n",
              "      <th>Ret_3</th>\n",
              "      <th>Ret_4</th>\n",
              "      <th>Ret_5</th>\n",
              "      <th>Ret_6</th>\n",
              "      <th>Ret_7</th>\n",
              "      <th>Ret_8</th>\n",
              "      <th>Ret_9</th>\n",
              "      <th>Ret_10</th>\n",
              "      <th>Ret_11</th>\n",
              "      <th>Ret_12</th>\n",
              "      <th>Ret_13</th>\n",
              "      <th>...</th>\n",
              "      <th>Ret_145</th>\n",
              "      <th>Ret_146</th>\n",
              "      <th>Ret_147</th>\n",
              "      <th>Ret_148</th>\n",
              "      <th>Ret_149</th>\n",
              "      <th>Ret_150</th>\n",
              "      <th>Ret_151</th>\n",
              "      <th>Ret_152</th>\n",
              "      <th>Ret_153</th>\n",
              "      <th>Ret_154</th>\n",
              "      <th>Ret_155</th>\n",
              "      <th>Ret_156</th>\n",
              "      <th>Ret_157</th>\n",
              "      <th>Ret_158</th>\n",
              "      <th>Ret_159</th>\n",
              "      <th>Ret_160</th>\n",
              "      <th>Ret_161</th>\n",
              "      <th>Ret_162</th>\n",
              "      <th>Ret_163</th>\n",
              "      <th>Ret_164</th>\n",
              "      <th>Ret_165</th>\n",
              "      <th>Ret_166</th>\n",
              "      <th>Ret_167</th>\n",
              "      <th>Ret_168</th>\n",
              "      <th>Ret_169</th>\n",
              "      <th>Ret_170</th>\n",
              "      <th>Ret_171</th>\n",
              "      <th>Ret_172</th>\n",
              "      <th>Ret_173</th>\n",
              "      <th>Ret_174</th>\n",
              "      <th>Ret_175</th>\n",
              "      <th>Ret_176</th>\n",
              "      <th>Ret_177</th>\n",
              "      <th>Ret_178</th>\n",
              "      <th>Ret_179</th>\n",
              "      <th>Ret_180</th>\n",
              "      <th>Ret_PlusOne</th>\n",
              "      <th>Ret_PlusTwo</th>\n",
              "      <th>Weight_Intraday</th>\n",
              "      <th>Weight_Daily</th>\n",
              "    </tr>\n",
              "  </thead>\n",
              "  <tbody>\n",
              "    <tr>\n",
              "      <th>0</th>\n",
              "      <td>1</td>\n",
              "      <td>3.59025</td>\n",
              "      <td>-0.117558</td>\n",
              "      <td>0.558392</td>\n",
              "      <td>0.405572</td>\n",
              "      <td>8.0</td>\n",
              "      <td>0.430972</td>\n",
              "      <td>75751</td>\n",
              "      <td>0.2254</td>\n",
              "      <td>11.0</td>\n",
              "      <td>4.744703</td>\n",
              "      <td>-0.572244</td>\n",
              "      <td>0.49</td>\n",
              "      <td>5.0</td>\n",
              "      <td>1.842984</td>\n",
              "      <td>27.053679</td>\n",
              "      <td>1.0</td>\n",
              "      <td>-0.549725</td>\n",
              "      <td>0.803059</td>\n",
              "      <td>-0.925463</td>\n",
              "      <td>2.0</td>\n",
              "      <td>0.605593</td>\n",
              "      <td>-0.489492</td>\n",
              "      <td>0.799833</td>\n",
              "      <td>-1.209290</td>\n",
              "      <td>-0.329675</td>\n",
              "      <td>0.055275</td>\n",
              "      <td>-0.010770</td>\n",
              "      <td>0.000003</td>\n",
              "      <td>-0.000734</td>\n",
              "      <td>-0.000738</td>\n",
              "      <td>-0.000007</td>\n",
              "      <td>0.000423</td>\n",
              "      <td>0.000438</td>\n",
              "      <td>-0.000076</td>\n",
              "      <td>0.000645</td>\n",
              "      <td>-0.000006</td>\n",
              "      <td>0.000006</td>\n",
              "      <td>4.886832e-07</td>\n",
              "      <td>-0.000156</td>\n",
              "      <td>...</td>\n",
              "      <td>-0.000842</td>\n",
              "      <td>-0.001390</td>\n",
              "      <td>0.000148</td>\n",
              "      <td>2.846942e-04</td>\n",
              "      <td>0.001254</td>\n",
              "      <td>-0.000130</td>\n",
              "      <td>0.000126</td>\n",
              "      <td>0.000978</td>\n",
              "      <td>0.000151</td>\n",
              "      <td>0.002642</td>\n",
              "      <td>-0.000017</td>\n",
              "      <td>0.000140</td>\n",
              "      <td>0.000015</td>\n",
              "      <td>-0.000011</td>\n",
              "      <td>0.001683</td>\n",
              "      <td>-0.000286</td>\n",
              "      <td>0.000010</td>\n",
              "      <td>0.000152</td>\n",
              "      <td>0.000579</td>\n",
              "      <td>-1.501973e-04</td>\n",
              "      <td>0.000822</td>\n",
              "      <td>0.001392</td>\n",
              "      <td>0.000292</td>\n",
              "      <td>0.000002</td>\n",
              "      <td>0.001133</td>\n",
              "      <td>-0.000134</td>\n",
              "      <td>0.001539</td>\n",
              "      <td>-0.000142</td>\n",
              "      <td>0.000861</td>\n",
              "      <td>0.000544</td>\n",
              "      <td>-0.002688</td>\n",
              "      <td>0.002246</td>\n",
              "      <td>-0.000838</td>\n",
              "      <td>-6.953224e-04</td>\n",
              "      <td>0.000003</td>\n",
              "      <td>-0.001974</td>\n",
              "      <td>-0.019512</td>\n",
              "      <td>0.028846</td>\n",
              "      <td>1.251508e+06</td>\n",
              "      <td>1.564385e+06</td>\n",
              "    </tr>\n",
              "    <tr>\n",
              "      <th>1</th>\n",
              "      <td>2</td>\n",
              "      <td>3.59025</td>\n",
              "      <td>-0.117558</td>\n",
              "      <td>0.558392</td>\n",
              "      <td>0.405572</td>\n",
              "      <td>3.0</td>\n",
              "      <td>0.388896</td>\n",
              "      <td>17369</td>\n",
              "      <td>0.0166</td>\n",
              "      <td>13.0</td>\n",
              "      <td>4.744703</td>\n",
              "      <td>-0.409923</td>\n",
              "      <td>0.71</td>\n",
              "      <td>9.0</td>\n",
              "      <td>1.577586</td>\n",
              "      <td>9.546915</td>\n",
              "      <td>1.0</td>\n",
              "      <td>-0.949891</td>\n",
              "      <td>0.917958</td>\n",
              "      <td>-0.897067</td>\n",
              "      <td>9.0</td>\n",
              "      <td>0.886205</td>\n",
              "      <td>-0.151805</td>\n",
              "      <td>1.239856</td>\n",
              "      <td>0.953424</td>\n",
              "      <td>-0.709462</td>\n",
              "      <td>0.009748</td>\n",
              "      <td>0.002987</td>\n",
              "      <td>-0.000487</td>\n",
              "      <td>0.000475</td>\n",
              "      <td>0.000002</td>\n",
              "      <td>-0.000002</td>\n",
              "      <td>-0.000523</td>\n",
              "      <td>-0.000255</td>\n",
              "      <td>-0.000008</td>\n",
              "      <td>0.000048</td>\n",
              "      <td>-0.000312</td>\n",
              "      <td>-0.000742</td>\n",
              "      <td>-9.027256e-06</td>\n",
              "      <td>-0.000248</td>\n",
              "      <td>...</td>\n",
              "      <td>-0.000104</td>\n",
              "      <td>0.000555</td>\n",
              "      <td>0.000259</td>\n",
              "      <td>2.559339e-05</td>\n",
              "      <td>0.000004</td>\n",
              "      <td>-0.000255</td>\n",
              "      <td>0.000263</td>\n",
              "      <td>0.000250</td>\n",
              "      <td>0.000104</td>\n",
              "      <td>0.000119</td>\n",
              "      <td>-0.000483</td>\n",
              "      <td>0.000128</td>\n",
              "      <td>0.000886</td>\n",
              "      <td>0.000003</td>\n",
              "      <td>0.000148</td>\n",
              "      <td>0.000623</td>\n",
              "      <td>0.000507</td>\n",
              "      <td>-0.000742</td>\n",
              "      <td>-0.000514</td>\n",
              "      <td>8.881545e-07</td>\n",
              "      <td>0.000090</td>\n",
              "      <td>-0.000361</td>\n",
              "      <td>-0.000738</td>\n",
              "      <td>-0.000502</td>\n",
              "      <td>0.000497</td>\n",
              "      <td>0.000256</td>\n",
              "      <td>-0.000256</td>\n",
              "      <td>-0.000005</td>\n",
              "      <td>-0.000497</td>\n",
              "      <td>0.000240</td>\n",
              "      <td>-0.000129</td>\n",
              "      <td>0.000123</td>\n",
              "      <td>0.000248</td>\n",
              "      <td>3.315418e-07</td>\n",
              "      <td>0.000003</td>\n",
              "      <td>0.000027</td>\n",
              "      <td>-0.002939</td>\n",
              "      <td>-0.010253</td>\n",
              "      <td>1.733950e+06</td>\n",
              "      <td>2.167438e+06</td>\n",
              "    </tr>\n",
              "    <tr>\n",
              "      <th>2</th>\n",
              "      <td>3</td>\n",
              "      <td>3.59025</td>\n",
              "      <td>-0.696727</td>\n",
              "      <td>0.739591</td>\n",
              "      <td>-0.167928</td>\n",
              "      <td>9.0</td>\n",
              "      <td>0.471947</td>\n",
              "      <td>8277</td>\n",
              "      <td>0.3650</td>\n",
              "      <td>9.0</td>\n",
              "      <td>5.000000</td>\n",
              "      <td>-0.473024</td>\n",
              "      <td>0.03</td>\n",
              "      <td>6.0</td>\n",
              "      <td>1.871160</td>\n",
              "      <td>9.647559</td>\n",
              "      <td>1.0</td>\n",
              "      <td>-1.132426</td>\n",
              "      <td>1.799813</td>\n",
              "      <td>-1.603488</td>\n",
              "      <td>3.0</td>\n",
              "      <td>0.605593</td>\n",
              "      <td>0.389061</td>\n",
              "      <td>1.728096</td>\n",
              "      <td>-1.798090</td>\n",
              "      <td>-1.019370</td>\n",
              "      <td>0.003077</td>\n",
              "      <td>0.006181</td>\n",
              "      <td>-0.000782</td>\n",
              "      <td>-0.000402</td>\n",
              "      <td>0.000807</td>\n",
              "      <td>0.000400</td>\n",
              "      <td>0.000656</td>\n",
              "      <td>-0.001177</td>\n",
              "      <td>0.001198</td>\n",
              "      <td>0.000610</td>\n",
              "      <td>-0.001031</td>\n",
              "      <td>0.000647</td>\n",
              "      <td>-9.295448e-04</td>\n",
              "      <td>-0.000543</td>\n",
              "      <td>...</td>\n",
              "      <td>-0.000003</td>\n",
              "      <td>-0.000102</td>\n",
              "      <td>-0.000292</td>\n",
              "      <td>5.032658e-04</td>\n",
              "      <td>-0.000126</td>\n",
              "      <td>-0.000135</td>\n",
              "      <td>0.000238</td>\n",
              "      <td>-0.000106</td>\n",
              "      <td>-0.000137</td>\n",
              "      <td>-0.000419</td>\n",
              "      <td>-0.000379</td>\n",
              "      <td>0.000013</td>\n",
              "      <td>0.000001</td>\n",
              "      <td>-0.000009</td>\n",
              "      <td>-0.000283</td>\n",
              "      <td>-0.000526</td>\n",
              "      <td>0.000247</td>\n",
              "      <td>-0.000134</td>\n",
              "      <td>0.000675</td>\n",
              "      <td>1.136847e-04</td>\n",
              "      <td>0.000234</td>\n",
              "      <td>-0.000506</td>\n",
              "      <td>-0.000007</td>\n",
              "      <td>-0.000249</td>\n",
              "      <td>0.000119</td>\n",
              "      <td>0.000277</td>\n",
              "      <td>0.000656</td>\n",
              "      <td>0.000127</td>\n",
              "      <td>0.000255</td>\n",
              "      <td>0.000278</td>\n",
              "      <td>-0.000524</td>\n",
              "      <td>-0.000394</td>\n",
              "      <td>0.000116</td>\n",
              "      <td>5.322557e-04</td>\n",
              "      <td>0.000274</td>\n",
              "      <td>0.000784</td>\n",
              "      <td>-0.024791</td>\n",
              "      <td>0.015711</td>\n",
              "      <td>1.529197e+06</td>\n",
              "      <td>1.911497e+06</td>\n",
              "    </tr>\n",
              "    <tr>\n",
              "      <th>3</th>\n",
              "      <td>4</td>\n",
              "      <td>3.59025</td>\n",
              "      <td>-0.694350</td>\n",
              "      <td>1.568248</td>\n",
              "      <td>0.479073</td>\n",
              "      <td>5.0</td>\n",
              "      <td>0.120653</td>\n",
              "      <td>22508</td>\n",
              "      <td>0.2654</td>\n",
              "      <td>13.0</td>\n",
              "      <td>5.000000</td>\n",
              "      <td>-2.138383</td>\n",
              "      <td>0.00</td>\n",
              "      <td>6.0</td>\n",
              "      <td>1.588524</td>\n",
              "      <td>1.801865</td>\n",
              "      <td>1.0</td>\n",
              "      <td>-1.131213</td>\n",
              "      <td>1.565036</td>\n",
              "      <td>-1.205438</td>\n",
              "      <td>7.0</td>\n",
              "      <td>1.148738</td>\n",
              "      <td>-2.440799</td>\n",
              "      <td>1.551425</td>\n",
              "      <td>-1.788725</td>\n",
              "      <td>-0.329675</td>\n",
              "      <td>0.000984</td>\n",
              "      <td>0.014106</td>\n",
              "      <td>0.000277</td>\n",
              "      <td>-0.000088</td>\n",
              "      <td>-0.000199</td>\n",
              "      <td>-0.000301</td>\n",
              "      <td>0.000711</td>\n",
              "      <td>-0.000431</td>\n",
              "      <td>-0.000144</td>\n",
              "      <td>0.000340</td>\n",
              "      <td>-0.000639</td>\n",
              "      <td>0.000420</td>\n",
              "      <td>1.449000e-04</td>\n",
              "      <td>-0.000130</td>\n",
              "      <td>...</td>\n",
              "      <td>0.000120</td>\n",
              "      <td>-0.000119</td>\n",
              "      <td>0.000285</td>\n",
              "      <td>-1.020028e-07</td>\n",
              "      <td>0.000285</td>\n",
              "      <td>-0.000350</td>\n",
              "      <td>0.000214</td>\n",
              "      <td>-0.000703</td>\n",
              "      <td>0.000153</td>\n",
              "      <td>-0.000286</td>\n",
              "      <td>0.000136</td>\n",
              "      <td>-0.000579</td>\n",
              "      <td>-0.000139</td>\n",
              "      <td>-0.000005</td>\n",
              "      <td>-0.000009</td>\n",
              "      <td>0.000010</td>\n",
              "      <td>0.000290</td>\n",
              "      <td>-0.000068</td>\n",
              "      <td>-0.000352</td>\n",
              "      <td>2.739541e-04</td>\n",
              "      <td>-0.000292</td>\n",
              "      <td>0.000446</td>\n",
              "      <td>0.000288</td>\n",
              "      <td>0.000001</td>\n",
              "      <td>0.000304</td>\n",
              "      <td>-0.000027</td>\n",
              "      <td>0.000371</td>\n",
              "      <td>-0.000055</td>\n",
              "      <td>-0.000161</td>\n",
              "      <td>-0.000155</td>\n",
              "      <td>0.000346</td>\n",
              "      <td>-0.000090</td>\n",
              "      <td>0.000288</td>\n",
              "      <td>-1.281102e-04</td>\n",
              "      <td>0.000074</td>\n",
              "      <td>0.000341</td>\n",
              "      <td>-0.005680</td>\n",
              "      <td>-0.002190</td>\n",
              "      <td>1.711569e+06</td>\n",
              "      <td>2.139462e+06</td>\n",
              "    </tr>\n",
              "    <tr>\n",
              "      <th>4</th>\n",
              "      <td>5</td>\n",
              "      <td>6.00000</td>\n",
              "      <td>-1.736489</td>\n",
              "      <td>2.765531</td>\n",
              "      <td>1.245280</td>\n",
              "      <td>7.0</td>\n",
              "      <td>4.866985</td>\n",
              "      <td>22423</td>\n",
              "      <td>0.2138</td>\n",
              "      <td>13.0</td>\n",
              "      <td>4.000000</td>\n",
              "      <td>-4.795565</td>\n",
              "      <td>0.97</td>\n",
              "      <td>5.0</td>\n",
              "      <td>0.842102</td>\n",
              "      <td>9.198895</td>\n",
              "      <td>1.0</td>\n",
              "      <td>6.317498</td>\n",
              "      <td>-3.208872</td>\n",
              "      <td>-1.102189</td>\n",
              "      <td>7.0</td>\n",
              "      <td>3.381040</td>\n",
              "      <td>1.732708</td>\n",
              "      <td>1.965189</td>\n",
              "      <td>-5.993092</td>\n",
              "      <td>3.219820</td>\n",
              "      <td>-0.018224</td>\n",
              "      <td>0.011065</td>\n",
              "      <td>-0.001232</td>\n",
              "      <td>0.000002</td>\n",
              "      <td>-0.001205</td>\n",
              "      <td>-0.000021</td>\n",
              "      <td>0.000005</td>\n",
              "      <td>0.000623</td>\n",
              "      <td>-0.001843</td>\n",
              "      <td>0.000005</td>\n",
              "      <td>0.001226</td>\n",
              "      <td>0.001213</td>\n",
              "      <td>-2.428211e-03</td>\n",
              "      <td>0.000974</td>\n",
              "      <td>...</td>\n",
              "      <td>-0.000979</td>\n",
              "      <td>0.000978</td>\n",
              "      <td>-0.000014</td>\n",
              "      <td>-1.218838e-03</td>\n",
              "      <td>0.001208</td>\n",
              "      <td>-0.000013</td>\n",
              "      <td>-0.000620</td>\n",
              "      <td>0.000606</td>\n",
              "      <td>-0.001238</td>\n",
              "      <td>0.000002</td>\n",
              "      <td>0.000003</td>\n",
              "      <td>-0.001226</td>\n",
              "      <td>0.001005</td>\n",
              "      <td>-0.000008</td>\n",
              "      <td>0.000231</td>\n",
              "      <td>-0.000006</td>\n",
              "      <td>-0.001212</td>\n",
              "      <td>0.000005</td>\n",
              "      <td>0.001220</td>\n",
              "      <td>-1.221212e-03</td>\n",
              "      <td>-0.000016</td>\n",
              "      <td>-0.000007</td>\n",
              "      <td>0.001222</td>\n",
              "      <td>0.000018</td>\n",
              "      <td>-0.001219</td>\n",
              "      <td>0.000006</td>\n",
              "      <td>0.001214</td>\n",
              "      <td>0.001221</td>\n",
              "      <td>-0.000005</td>\n",
              "      <td>-0.000007</td>\n",
              "      <td>-0.001235</td>\n",
              "      <td>0.000027</td>\n",
              "      <td>0.002449</td>\n",
              "      <td>8.619882e-06</td>\n",
              "      <td>0.001209</td>\n",
              "      <td>-0.000004</td>\n",
              "      <td>0.036104</td>\n",
              "      <td>-0.026552</td>\n",
              "      <td>1.267270e+06</td>\n",
              "      <td>1.584088e+06</td>\n",
              "    </tr>\n",
              "  </tbody>\n",
              "</table>\n",
              "<p>5 rows × 211 columns</p>\n",
              "</div>"
            ],
            "text/plain": [
              "   Id  Feature_1  Feature_2  ...  Ret_PlusTwo  Weight_Intraday  Weight_Daily\n",
              "0   1    3.59025  -0.117558  ...     0.028846     1.251508e+06  1.564385e+06\n",
              "1   2    3.59025  -0.117558  ...    -0.010253     1.733950e+06  2.167438e+06\n",
              "2   3    3.59025  -0.696727  ...     0.015711     1.529197e+06  1.911497e+06\n",
              "3   4    3.59025  -0.694350  ...    -0.002190     1.711569e+06  2.139462e+06\n",
              "4   5    6.00000  -1.736489  ...    -0.026552     1.267270e+06  1.584088e+06\n",
              "\n",
              "[5 rows x 211 columns]"
            ]
          },
          "metadata": {
            "tags": []
          },
          "execution_count": 3
        }
      ]
    },
    {
      "cell_type": "code",
      "metadata": {
        "id": "p4II2BEjV5DU",
        "colab_type": "code",
        "colab": {}
      },
      "source": [
        "X = dataset.iloc[:,0:27]\n",
        "Y = dataset.iloc[:,85]"
      ],
      "execution_count": 0,
      "outputs": []
    },
    {
      "cell_type": "code",
      "metadata": {
        "id": "d-PhCcYaWIaT",
        "colab_type": "code",
        "outputId": "e64b66ee-45f2-49d7-b347-6792ba95603a",
        "colab": {
          "base_uri": "https://localhost:8080/",
          "height": 222
        }
      },
      "source": [
        "X.head()"
      ],
      "execution_count": 0,
      "outputs": [
        {
          "output_type": "execute_result",
          "data": {
            "text/html": [
              "<div>\n",
              "<style scoped>\n",
              "    .dataframe tbody tr th:only-of-type {\n",
              "        vertical-align: middle;\n",
              "    }\n",
              "\n",
              "    .dataframe tbody tr th {\n",
              "        vertical-align: top;\n",
              "    }\n",
              "\n",
              "    .dataframe thead th {\n",
              "        text-align: right;\n",
              "    }\n",
              "</style>\n",
              "<table border=\"1\" class=\"dataframe\">\n",
              "  <thead>\n",
              "    <tr style=\"text-align: right;\">\n",
              "      <th></th>\n",
              "      <th>Id</th>\n",
              "      <th>Feature_1</th>\n",
              "      <th>Feature_2</th>\n",
              "      <th>Feature_3</th>\n",
              "      <th>Feature_4</th>\n",
              "      <th>Feature_5</th>\n",
              "      <th>Feature_6</th>\n",
              "      <th>Feature_7</th>\n",
              "      <th>Feature_8</th>\n",
              "      <th>Feature_9</th>\n",
              "      <th>Feature_10</th>\n",
              "      <th>Feature_11</th>\n",
              "      <th>Feature_12</th>\n",
              "      <th>Feature_13</th>\n",
              "      <th>Feature_14</th>\n",
              "      <th>Feature_15</th>\n",
              "      <th>Feature_16</th>\n",
              "      <th>Feature_17</th>\n",
              "      <th>Feature_18</th>\n",
              "      <th>Feature_19</th>\n",
              "      <th>Feature_20</th>\n",
              "      <th>Feature_21</th>\n",
              "      <th>Feature_22</th>\n",
              "      <th>Feature_23</th>\n",
              "      <th>Feature_24</th>\n",
              "      <th>Feature_25</th>\n",
              "      <th>Ret_MinusTwo</th>\n",
              "    </tr>\n",
              "  </thead>\n",
              "  <tbody>\n",
              "    <tr>\n",
              "      <th>0</th>\n",
              "      <td>1</td>\n",
              "      <td>3.59025</td>\n",
              "      <td>-0.117558</td>\n",
              "      <td>0.558392</td>\n",
              "      <td>0.405572</td>\n",
              "      <td>8.0</td>\n",
              "      <td>0.430972</td>\n",
              "      <td>75751</td>\n",
              "      <td>0.2254</td>\n",
              "      <td>11.0</td>\n",
              "      <td>4.744703</td>\n",
              "      <td>-0.572244</td>\n",
              "      <td>0.49</td>\n",
              "      <td>5.0</td>\n",
              "      <td>1.842984</td>\n",
              "      <td>27.053679</td>\n",
              "      <td>1.0</td>\n",
              "      <td>-0.549725</td>\n",
              "      <td>0.803059</td>\n",
              "      <td>-0.925463</td>\n",
              "      <td>2.0</td>\n",
              "      <td>0.605593</td>\n",
              "      <td>-0.489492</td>\n",
              "      <td>0.799833</td>\n",
              "      <td>-1.209290</td>\n",
              "      <td>-0.329675</td>\n",
              "      <td>0.055275</td>\n",
              "    </tr>\n",
              "    <tr>\n",
              "      <th>1</th>\n",
              "      <td>2</td>\n",
              "      <td>3.59025</td>\n",
              "      <td>-0.117558</td>\n",
              "      <td>0.558392</td>\n",
              "      <td>0.405572</td>\n",
              "      <td>3.0</td>\n",
              "      <td>0.388896</td>\n",
              "      <td>17369</td>\n",
              "      <td>0.0166</td>\n",
              "      <td>13.0</td>\n",
              "      <td>4.744703</td>\n",
              "      <td>-0.409923</td>\n",
              "      <td>0.71</td>\n",
              "      <td>9.0</td>\n",
              "      <td>1.577586</td>\n",
              "      <td>9.546915</td>\n",
              "      <td>1.0</td>\n",
              "      <td>-0.949891</td>\n",
              "      <td>0.917958</td>\n",
              "      <td>-0.897067</td>\n",
              "      <td>9.0</td>\n",
              "      <td>0.886205</td>\n",
              "      <td>-0.151805</td>\n",
              "      <td>1.239856</td>\n",
              "      <td>0.953424</td>\n",
              "      <td>-0.709462</td>\n",
              "      <td>0.009748</td>\n",
              "    </tr>\n",
              "    <tr>\n",
              "      <th>2</th>\n",
              "      <td>3</td>\n",
              "      <td>3.59025</td>\n",
              "      <td>-0.696727</td>\n",
              "      <td>0.739591</td>\n",
              "      <td>-0.167928</td>\n",
              "      <td>9.0</td>\n",
              "      <td>0.471947</td>\n",
              "      <td>8277</td>\n",
              "      <td>0.3650</td>\n",
              "      <td>9.0</td>\n",
              "      <td>5.000000</td>\n",
              "      <td>-0.473024</td>\n",
              "      <td>0.03</td>\n",
              "      <td>6.0</td>\n",
              "      <td>1.871160</td>\n",
              "      <td>9.647559</td>\n",
              "      <td>1.0</td>\n",
              "      <td>-1.132426</td>\n",
              "      <td>1.799813</td>\n",
              "      <td>-1.603488</td>\n",
              "      <td>3.0</td>\n",
              "      <td>0.605593</td>\n",
              "      <td>0.389061</td>\n",
              "      <td>1.728096</td>\n",
              "      <td>-1.798090</td>\n",
              "      <td>-1.019370</td>\n",
              "      <td>0.003077</td>\n",
              "    </tr>\n",
              "    <tr>\n",
              "      <th>3</th>\n",
              "      <td>4</td>\n",
              "      <td>3.59025</td>\n",
              "      <td>-0.694350</td>\n",
              "      <td>1.568248</td>\n",
              "      <td>0.479073</td>\n",
              "      <td>5.0</td>\n",
              "      <td>0.120653</td>\n",
              "      <td>22508</td>\n",
              "      <td>0.2654</td>\n",
              "      <td>13.0</td>\n",
              "      <td>5.000000</td>\n",
              "      <td>-2.138383</td>\n",
              "      <td>0.00</td>\n",
              "      <td>6.0</td>\n",
              "      <td>1.588524</td>\n",
              "      <td>1.801865</td>\n",
              "      <td>1.0</td>\n",
              "      <td>-1.131213</td>\n",
              "      <td>1.565036</td>\n",
              "      <td>-1.205438</td>\n",
              "      <td>7.0</td>\n",
              "      <td>1.148738</td>\n",
              "      <td>-2.440799</td>\n",
              "      <td>1.551425</td>\n",
              "      <td>-1.788725</td>\n",
              "      <td>-0.329675</td>\n",
              "      <td>0.000984</td>\n",
              "    </tr>\n",
              "    <tr>\n",
              "      <th>4</th>\n",
              "      <td>5</td>\n",
              "      <td>6.00000</td>\n",
              "      <td>-1.736489</td>\n",
              "      <td>2.765531</td>\n",
              "      <td>1.245280</td>\n",
              "      <td>7.0</td>\n",
              "      <td>4.866985</td>\n",
              "      <td>22423</td>\n",
              "      <td>0.2138</td>\n",
              "      <td>13.0</td>\n",
              "      <td>4.000000</td>\n",
              "      <td>-4.795565</td>\n",
              "      <td>0.97</td>\n",
              "      <td>5.0</td>\n",
              "      <td>0.842102</td>\n",
              "      <td>9.198895</td>\n",
              "      <td>1.0</td>\n",
              "      <td>6.317498</td>\n",
              "      <td>-3.208872</td>\n",
              "      <td>-1.102189</td>\n",
              "      <td>7.0</td>\n",
              "      <td>3.381040</td>\n",
              "      <td>1.732708</td>\n",
              "      <td>1.965189</td>\n",
              "      <td>-5.993092</td>\n",
              "      <td>3.219820</td>\n",
              "      <td>-0.018224</td>\n",
              "    </tr>\n",
              "  </tbody>\n",
              "</table>\n",
              "</div>"
            ],
            "text/plain": [
              "   Id  Feature_1  Feature_2  ...  Feature_24  Feature_25  Ret_MinusTwo\n",
              "0   1    3.59025  -0.117558  ...   -1.209290   -0.329675      0.055275\n",
              "1   2    3.59025  -0.117558  ...    0.953424   -0.709462      0.009748\n",
              "2   3    3.59025  -0.696727  ...   -1.798090   -1.019370      0.003077\n",
              "3   4    3.59025  -0.694350  ...   -1.788725   -0.329675      0.000984\n",
              "4   5    6.00000  -1.736489  ...   -5.993092    3.219820     -0.018224\n",
              "\n",
              "[5 rows x 27 columns]"
            ]
          },
          "metadata": {
            "tags": []
          },
          "execution_count": 5
        }
      ]
    },
    {
      "cell_type": "code",
      "metadata": {
        "id": "tjHnzSXWWMeW",
        "colab_type": "code",
        "outputId": "c5f1bfe5-5301-4094-fba4-6387278acbbd",
        "colab": {
          "base_uri": "https://localhost:8080/",
          "height": 35
        }
      },
      "source": [
        "X.shape"
      ],
      "execution_count": 0,
      "outputs": [
        {
          "output_type": "execute_result",
          "data": {
            "text/plain": [
              "(40000, 27)"
            ]
          },
          "metadata": {
            "tags": []
          },
          "execution_count": 6
        }
      ]
    },
    {
      "cell_type": "code",
      "metadata": {
        "id": "_JddwpJdWOCs",
        "colab_type": "code",
        "outputId": "6af20f86-3d40-4d1d-893a-a77b574e537b",
        "colab": {
          "base_uri": "https://localhost:8080/",
          "height": 121
        }
      },
      "source": [
        "Y.head()"
      ],
      "execution_count": 0,
      "outputs": [
        {
          "output_type": "execute_result",
          "data": {
            "text/plain": [
              "0   -0.001152\n",
              "1   -0.000180\n",
              "2   -0.000284\n",
              "3   -0.000076\n",
              "4    0.000020\n",
              "Name: Ret_59, dtype: float64"
            ]
          },
          "metadata": {
            "tags": []
          },
          "execution_count": 7
        }
      ]
    },
    {
      "cell_type": "code",
      "metadata": {
        "id": "dCFv9XLcWSdu",
        "colab_type": "code",
        "outputId": "3e3336cb-0d95-48d6-94d0-ba7457c7c4ec",
        "colab": {
          "base_uri": "https://localhost:8080/",
          "height": 35
        }
      },
      "source": [
        "Y.shape"
      ],
      "execution_count": 0,
      "outputs": [
        {
          "output_type": "execute_result",
          "data": {
            "text/plain": [
              "(40000,)"
            ]
          },
          "metadata": {
            "tags": []
          },
          "execution_count": 8
        }
      ]
    },
    {
      "cell_type": "code",
      "metadata": {
        "id": "mbXaweSKV8w-",
        "colab_type": "code",
        "colab": {}
      },
      "source": [
        "scaler_x= MinMaxScaler()\n",
        "scaler_x.fit(X)\n",
        "xscale= scaler_x.transform(X)"
      ],
      "execution_count": 0,
      "outputs": []
    },
    {
      "cell_type": "code",
      "metadata": {
        "id": "g7JSV_yOXHjW",
        "colab_type": "code",
        "outputId": "a1ea454d-853c-4dd0-b061-86a1721eaea0",
        "colab": {
          "base_uri": "https://localhost:8080/",
          "height": 419
        }
      },
      "source": [
        "model = Sequential()\n",
        "model.add(Dense(12, input_dim=27, kernel_initializer= 'normal'))\n",
        "model.add(Dense(8, activation = 'relu'))\n",
        "model.add(Dense(1, activation = 'linear'))\n",
        "model.summary()"
      ],
      "execution_count": 0,
      "outputs": [
        {
          "output_type": "stream",
          "text": [
            "WARNING:tensorflow:From /usr/local/lib/python3.6/dist-packages/keras/backend/tensorflow_backend.py:66: The name tf.get_default_graph is deprecated. Please use tf.compat.v1.get_default_graph instead.\n",
            "\n",
            "WARNING:tensorflow:From /usr/local/lib/python3.6/dist-packages/keras/backend/tensorflow_backend.py:541: The name tf.placeholder is deprecated. Please use tf.compat.v1.placeholder instead.\n",
            "\n",
            "WARNING:tensorflow:From /usr/local/lib/python3.6/dist-packages/keras/backend/tensorflow_backend.py:4409: The name tf.random_normal is deprecated. Please use tf.random.normal instead.\n",
            "\n",
            "WARNING:tensorflow:From /usr/local/lib/python3.6/dist-packages/keras/backend/tensorflow_backend.py:4432: The name tf.random_uniform is deprecated. Please use tf.random.uniform instead.\n",
            "\n",
            "Model: \"sequential_1\"\n",
            "_________________________________________________________________\n",
            "Layer (type)                 Output Shape              Param #   \n",
            "=================================================================\n",
            "dense_1 (Dense)              (None, 12)                336       \n",
            "_________________________________________________________________\n",
            "dense_2 (Dense)              (None, 8)                 104       \n",
            "_________________________________________________________________\n",
            "dense_3 (Dense)              (None, 1)                 9         \n",
            "=================================================================\n",
            "Total params: 449\n",
            "Trainable params: 449\n",
            "Non-trainable params: 0\n",
            "_________________________________________________________________\n"
          ],
          "name": "stdout"
        }
      ]
    },
    {
      "cell_type": "code",
      "metadata": {
        "id": "nOik6f52XueO",
        "colab_type": "code",
        "outputId": "c66aca79-7a82-409f-d2bd-bef9d53642ab",
        "colab": {
          "base_uri": "https://localhost:8080/",
          "height": 696
        }
      },
      "source": [
        "model.compile(loss= 'mse', optimizer = 'adam' , metrics=['mse', 'mae'])\n",
        "history = model.fit(xscale, Y, epochs= 10, batch_size = 50)"
      ],
      "execution_count": 0,
      "outputs": [
        {
          "output_type": "stream",
          "text": [
            "WARNING:tensorflow:From /usr/local/lib/python3.6/dist-packages/keras/optimizers.py:793: The name tf.train.Optimizer is deprecated. Please use tf.compat.v1.train.Optimizer instead.\n",
            "\n",
            "WARNING:tensorflow:From /usr/local/lib/python3.6/dist-packages/keras/backend/tensorflow_backend.py:1033: The name tf.assign_add is deprecated. Please use tf.compat.v1.assign_add instead.\n",
            "\n",
            "WARNING:tensorflow:From /usr/local/lib/python3.6/dist-packages/keras/backend/tensorflow_backend.py:1020: The name tf.assign is deprecated. Please use tf.compat.v1.assign instead.\n",
            "\n",
            "WARNING:tensorflow:From /usr/local/lib/python3.6/dist-packages/keras/backend/tensorflow_backend.py:3005: The name tf.Session is deprecated. Please use tf.compat.v1.Session instead.\n",
            "\n",
            "Epoch 1/10\n",
            "WARNING:tensorflow:From /usr/local/lib/python3.6/dist-packages/keras/backend/tensorflow_backend.py:190: The name tf.get_default_session is deprecated. Please use tf.compat.v1.get_default_session instead.\n",
            "\n",
            "WARNING:tensorflow:From /usr/local/lib/python3.6/dist-packages/keras/backend/tensorflow_backend.py:197: The name tf.ConfigProto is deprecated. Please use tf.compat.v1.ConfigProto instead.\n",
            "\n",
            "WARNING:tensorflow:From /usr/local/lib/python3.6/dist-packages/keras/backend/tensorflow_backend.py:207: The name tf.global_variables is deprecated. Please use tf.compat.v1.global_variables instead.\n",
            "\n",
            "WARNING:tensorflow:From /usr/local/lib/python3.6/dist-packages/keras/backend/tensorflow_backend.py:216: The name tf.is_variable_initialized is deprecated. Please use tf.compat.v1.is_variable_initialized instead.\n",
            "\n",
            "WARNING:tensorflow:From /usr/local/lib/python3.6/dist-packages/keras/backend/tensorflow_backend.py:223: The name tf.variables_initializer is deprecated. Please use tf.compat.v1.variables_initializer instead.\n",
            "\n",
            "40000/40000 [==============================] - 3s 86us/step - loss: 2.1064e-04 - mean_squared_error: 2.1064e-04 - mean_absolute_error: 0.0032\n",
            "Epoch 2/10\n",
            "40000/40000 [==============================] - 2s 55us/step - loss: 1.0758e-06 - mean_squared_error: 1.0758e-06 - mean_absolute_error: 5.4389e-04\n",
            "Epoch 3/10\n",
            "40000/40000 [==============================] - 2s 55us/step - loss: 9.5066e-07 - mean_squared_error: 9.5066e-07 - mean_absolute_error: 5.3770e-04\n",
            "Epoch 4/10\n",
            "40000/40000 [==============================] - 2s 56us/step - loss: 9.2967e-07 - mean_squared_error: 9.2967e-07 - mean_absolute_error: 5.3885e-04\n",
            "Epoch 5/10\n",
            "40000/40000 [==============================] - 2s 54us/step - loss: 9.2065e-07 - mean_squared_error: 9.2065e-07 - mean_absolute_error: 5.4006e-04\n",
            "Epoch 6/10\n",
            "40000/40000 [==============================] - 2s 56us/step - loss: 9.2663e-07 - mean_squared_error: 9.2663e-07 - mean_absolute_error: 5.5011e-04\n",
            "Epoch 7/10\n",
            "40000/40000 [==============================] - 2s 55us/step - loss: 9.2773e-07 - mean_squared_error: 9.2773e-07 - mean_absolute_error: 5.5147e-04\n",
            "Epoch 8/10\n",
            "40000/40000 [==============================] - 2s 57us/step - loss: 9.2577e-07 - mean_squared_error: 9.2577e-07 - mean_absolute_error: 5.4867e-04\n",
            "Epoch 9/10\n",
            "40000/40000 [==============================] - 2s 58us/step - loss: 9.3447e-07 - mean_squared_error: 9.3447e-07 - mean_absolute_error: 5.5813e-04\n",
            "Epoch 10/10\n",
            "40000/40000 [==============================] - 2s 56us/step - loss: 9.5186e-07 - mean_squared_error: 9.5186e-07 - mean_absolute_error: 5.7295e-04\n"
          ],
          "name": "stdout"
        }
      ]
    },
    {
      "cell_type": "code",
      "metadata": {
        "id": "ZRquuEQ5YbAx",
        "colab_type": "code",
        "outputId": "b585f4c3-a7f2-42a3-ab6e-5f8e4a32bb24",
        "colab": {
          "base_uri": "https://localhost:8080/",
          "height": 281
        }
      },
      "source": [
        "plt.plot(history.history['loss'])\n",
        "plt.title('model loss')\n",
        "plt.ylabel('loss')\n",
        "plt.legend(['train'], loc='upper left')\n",
        "plt.show()"
      ],
      "execution_count": 0,
      "outputs": [
        {
          "output_type": "display_data",
          "data": {
            "image/png": "[encoded data removed]",
            "text/plain": [
              "<Figure size 432x288 with 1 Axes>"
            ]
          },
          "metadata": {
            "tags": []
          }
        }
      ]
    },
    {
      "cell_type": "code",
      "metadata": {
        "id": "nNSfsZePZQ4D",
        "colab_type": "code",
        "colab": {}
      },
      "source": [
        "dataset2 = pd.read_csv('/content/drive/My Drive/test_2.csv (1)/test_2.csv')\n",
        "dataset2.fillna(dataset.mean(axis=0), inplace=True)"
      ],
      "execution_count": 0,
      "outputs": []
    },
    {
      "cell_type": "code",
      "metadata": {
        "id": "Rxa_fP8wZ6Hg",
        "colab_type": "code",
        "outputId": "54759214-c5fa-412e-c828-4f65dec6d8d4",
        "colab": {
          "base_uri": "https://localhost:8080/",
          "height": 35
        }
      },
      "source": [
        "Xnew = dataset2.iloc[:,0:27]\n",
        "ynew = dataset2.iloc[:,85]\n",
        "scaler_x= MinMaxScaler()\n",
        "scaler_x.fit(Xnew)\n",
        "xscale= scaler_x.transform(Xnew)\n",
        "Ynew= model.predict(xscale)\n",
        "Xnew.shape"
      ],
      "execution_count": 0,
      "outputs": [
        {
          "output_type": "execute_result",
          "data": {
            "text/plain": [
              "(120000, 27)"
            ]
          },
          "metadata": {
            "tags": []
          },
          "execution_count": 14
        }
      ]
    },
    {
      "cell_type": "code",
      "metadata": {
        "id": "N8Dn2wOnaxmW",
        "colab_type": "code",
        "outputId": "3d593ef6-abbe-4dc9-c072-e7b822508997",
        "colab": {
          "base_uri": "https://localhost:8080/",
          "height": 243
        }
      },
      "source": [
        "xscale"
      ],
      "execution_count": 0,
      "outputs": [
        {
          "output_type": "execute_result",
          "data": {
            "text/plain": [
              "array([[0.00000000e+00, 0.00000000e+00, 6.37679216e-01, ...,\n",
              "        7.76498076e-01, 2.66853667e-01, 3.74114514e-01],\n",
              "       [8.33340278e-06, 2.87805526e-01, 4.41045699e-01, ...,\n",
              "        7.06841965e-01, 2.19751948e-01, 3.94085514e-01],\n",
              "       [1.66668056e-05, 2.87805526e-01, 3.78082324e-01, ...,\n",
              "        6.81707487e-01, 2.84476202e-01, 3.55670510e-01],\n",
              "       ...,\n",
              "       [9.99983333e-01, 0.00000000e+00, 3.16686851e-01, ...,\n",
              "        7.06350557e-01, 1.73185272e-01, 3.67497322e-01],\n",
              "       [9.99991667e-01, 2.22222222e-01, 3.43971157e-01, ...,\n",
              "        6.62439054e-01, 2.03006283e-01, 3.76906353e-01],\n",
              "       [1.00000000e+00, 2.87805526e-01, 4.41045699e-01, ...,\n",
              "        6.47546041e-01, 2.91929295e-01, 3.85755556e-01]])"
            ]
          },
          "metadata": {
            "tags": []
          },
          "execution_count": 15
        }
      ]
    },
    {
      "cell_type": "code",
      "metadata": {
        "id": "Kv3GN83Ra5lc",
        "colab_type": "code",
        "outputId": "d7145839-f0d2-4b0f-8917-9c8eeffd877b",
        "colab": {
          "base_uri": "https://localhost:8080/",
          "height": 35
        }
      },
      "source": [
        "xscale.shape"
      ],
      "execution_count": 0,
      "outputs": [
        {
          "output_type": "execute_result",
          "data": {
            "text/plain": [
              "(120000, 27)"
            ]
          },
          "metadata": {
            "tags": []
          },
          "execution_count": 16
        }
      ]
    },
    {
      "cell_type": "code",
      "metadata": {
        "id": "dVsX9WmpbAT6",
        "colab_type": "code",
        "outputId": "9ff4240f-3d0b-4565-ec65-9aac54ce1468",
        "colab": {
          "base_uri": "https://localhost:8080/",
          "height": 139
        }
      },
      "source": [
        "Ynew"
      ],
      "execution_count": 0,
      "outputs": [
        {
          "output_type": "execute_result",
          "data": {
            "text/plain": [
              "array([[-4.0185423e-06],\n",
              "       [-4.0185423e-06],\n",
              "       [-4.0185423e-06],\n",
              "       ...,\n",
              "       [-4.0185423e-06],\n",
              "       [-4.0185423e-06],\n",
              "       [-4.0185423e-06]], dtype=float32)"
            ]
          },
          "metadata": {
            "tags": []
          },
          "execution_count": 17
        }
      ]
    },
    {
      "cell_type": "code",
      "metadata": {
        "id": "x8Z7bVA1bBdT",
        "colab_type": "code",
        "outputId": "1c34ed05-d28c-471b-f32c-340ad44b9008",
        "colab": {
          "base_uri": "https://localhost:8080/",
          "height": 35
        }
      },
      "source": [
        "Ynew.shape"
      ],
      "execution_count": 0,
      "outputs": [
        {
          "output_type": "execute_result",
          "data": {
            "text/plain": [
              "(120000, 1)"
            ]
          },
          "metadata": {
            "tags": []
          },
          "execution_count": 18
        }
      ]
    },
    {
      "cell_type": "code",
      "metadata": {
        "id": "wBaxKKbdbM3R",
        "colab_type": "code",
        "outputId": "2f3860b8-c9fb-4b55-e1a4-270bac594b59",
        "colab": {
          "base_uri": "https://localhost:8080/",
          "height": 417
        }
      },
      "source": [
        "plt.plot(Ynew)\n",
        "plt.plot(ynew)\n",
        "plt.title('model loss')\n",
        "plt.ylabel('Value')\n",
        "plt.xlabel('Data Points')\n",
        "plt.legend(['Predict', 'Real'], loc='upper left')\n",
        "plt.show()\n",
        "Ynew"
      ],
      "execution_count": 0,
      "outputs": [
        {
          "output_type": "display_data",
          "data": {
            "image/png": "[encoded data removed]",
            "text/plain": [
              "<Figure size 432x288 with 1 Axes>"
            ]
          },
          "metadata": {
            "tags": []
          }
        },
        {
          "output_type": "execute_result",
          "data": {
            "text/plain": [
              "array([[-4.0185423e-06],\n",
              "       [-4.0185423e-06],\n",
              "       [-4.0185423e-06],\n",
              "       ...,\n",
              "       [-4.0185423e-06],\n",
              "       [-4.0185423e-06],\n",
              "       [-4.0185423e-06]], dtype=float32)"
            ]
          },
          "metadata": {
            "tags": []
          },
          "execution_count": 19
        }
      ]
    },
    {
      "cell_type": "code",
      "metadata": {
        "id": "O71fBQJQcMeF",
        "colab_type": "code",
        "colab": {}
      },
      "source": [
        "import xgboost as xgb\n",
        "from sklearn.metrics import accuracy_score\n"
      ],
      "execution_count": 0,
      "outputs": []
    },
    {
      "cell_type": "code",
      "metadata": {
        "id": "xGRSBjnccvXA",
        "colab_type": "code",
        "colab": {}
      },
      "source": [
        "n_folds = 5\n",
        "def rmsle_cv(model):\n",
        "  rmse= np.sqrt(-cross_val_score(model, X, Y, scoring = \"neg_mean_squared_error\"))\n",
        "  return(rmse)"
      ],
      "execution_count": 0,
      "outputs": []
    },
    {
      "cell_type": "code",
      "metadata": {
        "id": "H0wb_qfCfp1E",
        "colab_type": "code",
        "colab": {}
      },
      "source": [
        "import numpy as np\n",
        "import matplotlib.pyplot as plt\n",
        "import pandas as pd"
      ],
      "execution_count": 0,
      "outputs": []
    },
    {
      "cell_type": "code",
      "metadata": {
        "id": "JPGbJytHgmms",
        "colab_type": "code",
        "colab": {}
      },
      "source": [
        "xscale = np.reshape(xscale, (xscale.shape[0], xscale.shape[1],1))"
      ],
      "execution_count": 0,
      "outputs": []
    },
    {
      "cell_type": "code",
      "metadata": {
        "id": "jT1p8fG6hBZK",
        "colab_type": "code",
        "colab": {}
      },
      "source": [
        "from keras.models import Sequential\n",
        "from keras.layers import Dense\n",
        "from keras.layers import LSTM\n",
        "from keras.layers import Dropout\n"
      ],
      "execution_count": 0,
      "outputs": []
    },
    {
      "cell_type": "code",
      "metadata": {
        "id": "3PVjcD-5hmPG",
        "colab_type": "code",
        "outputId": "70b045a8-0d83-45f0-b71b-f65d8d3f775a",
        "colab": {
          "base_uri": "https://localhost:8080/",
          "height": 124
        }
      },
      "source": [
        "regressor = Sequential()\n",
        "regressor.add(LSTM(units = 10, return_sequences = True, input_shape = (xscale.shape[1],1)))\n",
        "regressor.add(Dropout(0.025))\n",
        "\n",
        "regressor.add(LSTM(units = 10, return_sequences = True))\n",
        "regressor.add(Dropout(0.025))\n",
        "\n",
        "regressor.add(LSTM(units = 10, return_sequences = True))\n",
        "regressor.add(Dropout(0.025))\n",
        "\n",
        "regressor.add(LSTM(units = 10))\n",
        "regressor.add(Dropout(0.025))\n",
        "\n",
        "regressor.add(Dense(units = 1))"
      ],
      "execution_count": 0,
      "outputs": [
        {
          "output_type": "stream",
          "text": [
            "WARNING:tensorflow:From /usr/local/lib/python3.6/dist-packages/keras/backend/tensorflow_backend.py:148: The name tf.placeholder_with_default is deprecated. Please use tf.compat.v1.placeholder_with_default instead.\n",
            "\n",
            "WARNING:tensorflow:From /usr/local/lib/python3.6/dist-packages/keras/backend/tensorflow_backend.py:3733: calling dropout (from tensorflow.python.ops.nn_ops) with keep_prob is deprecated and will be removed in a future version.\n",
            "Instructions for updating:\n",
            "Please use `rate` instead of `keep_prob`. Rate should be set to `rate = 1 - keep_prob`.\n"
          ],
          "name": "stdout"
        }
      ]
    },
    {
      "cell_type": "code",
      "metadata": {
        "id": "2IYTZ-i9i1YT",
        "colab_type": "code",
        "colab": {}
      },
      "source": [
        "regressor.compile(optimizer = 'adam', loss = 'mean_squared_error', metrics=['mse', 'mae'])"
      ],
      "execution_count": 0,
      "outputs": []
    },
    {
      "cell_type": "code",
      "metadata": {
        "id": "5SgU5uN9jMw9",
        "colab_type": "code",
        "outputId": "223f3b21-9040-49b2-f924-088e3ea08104",
        "colab": {
          "base_uri": "https://localhost:8080/",
          "height": 263
        }
      },
      "source": [
        "regressor.fit(xscale, ynew, epochs = 5, batch_size =50 ) #optimizer = 'adam', loss = 'mean_squared_error', metrics=['mse', 'mae']\n",
        "xscale = np.reshape(xscale, (xscale.shape[0], xscale.shape[1], 1))\n",
        "predict_stock_price = regressor.predict(xscale)"
      ],
      "execution_count": 0,
      "outputs": [
        {
          "output_type": "stream",
          "text": [
            "WARNING:tensorflow:From /usr/local/lib/python3.6/dist-packages/tensorflow_core/python/ops/math_grad.py:1424: where (from tensorflow.python.ops.array_ops) is deprecated and will be removed in a future version.\n",
            "Instructions for updating:\n",
            "Use tf.where in 2.0, which has the same broadcast rule as np.where\n",
            "Epoch 1/5\n",
            "120000/120000 [==============================] - 377s 3ms/step - loss: 1.3097e-06 - mean_squared_error: 1.3097e-06 - mean_absolute_error: 7.1765e-04\n",
            "Epoch 2/5\n",
            "120000/120000 [==============================] - 374s 3ms/step - loss: 1.0215e-06 - mean_squared_error: 1.0215e-06 - mean_absolute_error: 6.2858e-04\n",
            "Epoch 3/5\n",
            "120000/120000 [==============================] - 373s 3ms/step - loss: 9.8633e-07 - mean_squared_error: 9.8633e-07 - mean_absolute_error: 6.0634e-04\n",
            "Epoch 4/5\n",
            "120000/120000 [==============================] - 375s 3ms/step - loss: 9.6208e-07 - mean_squared_error: 9.6208e-07 - mean_absolute_error: 5.8692e-04\n",
            "Epoch 5/5\n",
            "120000/120000 [==============================] - 374s 3ms/step - loss: 9.5420e-07 - mean_squared_error: 9.5420e-07 - mean_absolute_error: 5.8265e-04\n"
          ],
          "name": "stdout"
        }
      ]
    },
    {
      "cell_type": "code",
      "metadata": {
        "id": "v62jKbEakIx0",
        "colab_type": "code",
        "outputId": "eb5c124b-93ba-4db3-be4e-557b82fd9856",
        "colab": {
          "base_uri": "https://localhost:8080/",
          "height": 417
        }
      },
      "source": [
        "plt.plot(predict_stock_price)\n",
        "plt.plot(ynew)\n",
        "plt.title('model loss')\n",
        "plt.ylabel('Value')\n",
        "plt.xlabel('Data Points')\n",
        "plt.legend(['Predict', 'Real'], loc='upper left')\n",
        "plt.show()\n",
        "\n",
        "predict_stock_price\n"
      ],
      "execution_count": 0,
      "outputs": [
        {
          "output_type": "display_data",
          "data": {
            "image/png": "[encoded data removed]",
            "text/plain": [
              "<Figure size 432x288 with 1 Axes>"
            ]
          },
          "metadata": {
            "tags": []
          }
        },
        {
          "output_type": "execute_result",
          "data": {
            "text/plain": [
              "array([[0.00019559],\n",
              "       [0.00019703],\n",
              "       [0.00019701],\n",
              "       ...,\n",
              "       [0.00019777],\n",
              "       [0.00019841],\n",
              "       [0.00019862]], dtype=float32)"
            ]
          },
          "metadata": {
            "tags": []
          },
          "execution_count": 32
        }
      ]
    },
    {
      "cell_type": "code",
      "metadata": {
        "id": "8ZAun7YClNja",
        "colab_type": "code",
        "outputId": "bcd41e92-57ef-443a-fa87-04b297e56c9f",
        "colab": {
          "base_uri": "https://localhost:8080/",
          "height": 35
        }
      },
      "source": [
        "dataset.shape"
      ],
      "execution_count": 0,
      "outputs": [
        {
          "output_type": "execute_result",
          "data": {
            "text/plain": [
              "(40000, 211)"
            ]
          },
          "metadata": {
            "tags": []
          },
          "execution_count": 33
        }
      ]
    },
    {
      "cell_type": "code",
      "metadata": {
        "id": "NlzzUsa_lR8Y",
        "colab_type": "code",
        "outputId": "b72a3c1d-426d-4c71-c788-4acf50e1146b",
        "colab": {
          "base_uri": "https://localhost:8080/",
          "height": 121
        }
      },
      "source": [
        "cols= dataset.columns\n",
        "index = cols[27:205]\n",
        "index"
      ],
      "execution_count": 0,
      "outputs": [
        {
          "output_type": "execute_result",
          "data": {
            "text/plain": [
              "Index(['Ret_MinusOne', 'Ret_2', 'Ret_3', 'Ret_4', 'Ret_5', 'Ret_6', 'Ret_7',\n",
              "       'Ret_8', 'Ret_9', 'Ret_10',\n",
              "       ...\n",
              "       'Ret_169', 'Ret_170', 'Ret_171', 'Ret_172', 'Ret_173', 'Ret_174',\n",
              "       'Ret_175', 'Ret_176', 'Ret_177', 'Ret_178'],\n",
              "      dtype='object', length=178)"
            ]
          },
          "metadata": {
            "tags": []
          },
          "execution_count": 34
        }
      ]
    },
    {
      "cell_type": "code",
      "metadata": {
        "id": "VlARHS2fltrb",
        "colab_type": "code",
        "outputId": "9cce6cc7-722c-41ab-a994-56ccad44f9ee",
        "colab": {
          "base_uri": "https://localhost:8080/",
          "height": 121
        }
      },
      "source": [
        "returns = cols[28: 206]\n",
        "returns\n"
      ],
      "execution_count": 0,
      "outputs": [
        {
          "output_type": "execute_result",
          "data": {
            "text/plain": [
              "Index(['Ret_2', 'Ret_3', 'Ret_4', 'Ret_5', 'Ret_6', 'Ret_7', 'Ret_8', 'Ret_9',\n",
              "       'Ret_10', 'Ret_11',\n",
              "       ...\n",
              "       'Ret_170', 'Ret_171', 'Ret_172', 'Ret_173', 'Ret_174', 'Ret_175',\n",
              "       'Ret_176', 'Ret_177', 'Ret_178', 'Ret_179'],\n",
              "      dtype='object', length=178)"
            ]
          },
          "metadata": {
            "tags": []
          },
          "execution_count": 35
        }
      ]
    },
    {
      "cell_type": "code",
      "metadata": {
        "id": "s9Rpph-UmJXJ",
        "colab_type": "code",
        "colab": {}
      },
      "source": [
        "for i in range(118):\n",
        "  dataset[returns[i]] = dataset[returns[i]]+ dataset[index[i]]"
      ],
      "execution_count": 0,
      "outputs": []
    },
    {
      "cell_type": "code",
      "metadata": {
        "id": "LhqVA3DZnrkA",
        "colab_type": "code",
        "outputId": "6dab8db1-3a27-4f1c-d12f-de8ee30b27b6",
        "colab": {
          "base_uri": "https://localhost:8080/",
          "height": 338
        }
      },
      "source": [
        "dataset.head()"
      ],
      "execution_count": 0,
      "outputs": [
        {
          "output_type": "execute_result",
          "data": {
            "text/html": [
              "<div>\n",
              "<style scoped>\n",
              "    .dataframe tbody tr th:only-of-type {\n",
              "        vertical-align: middle;\n",
              "    }\n",
              "\n",
              "    .dataframe tbody tr th {\n",
              "        vertical-align: top;\n",
              "    }\n",
              "\n",
              "    .dataframe thead th {\n",
              "        text-align: right;\n",
              "    }\n",
              "</style>\n",
              "<table border=\"1\" class=\"dataframe\">\n",
              "  <thead>\n",
              "    <tr style=\"text-align: right;\">\n",
              "      <th></th>\n",
              "      <th>Id</th>\n",
              "      <th>Feature_1</th>\n",
              "      <th>Feature_2</th>\n",
              "      <th>Feature_3</th>\n",
              "      <th>Feature_4</th>\n",
              "      <th>Feature_5</th>\n",
              "      <th>Feature_6</th>\n",
              "      <th>Feature_7</th>\n",
              "      <th>Feature_8</th>\n",
              "      <th>Feature_9</th>\n",
              "      <th>Feature_10</th>\n",
              "      <th>Feature_11</th>\n",
              "      <th>Feature_12</th>\n",
              "      <th>Feature_13</th>\n",
              "      <th>Feature_14</th>\n",
              "      <th>Feature_15</th>\n",
              "      <th>Feature_16</th>\n",
              "      <th>Feature_17</th>\n",
              "      <th>Feature_18</th>\n",
              "      <th>Feature_19</th>\n",
              "      <th>Feature_20</th>\n",
              "      <th>Feature_21</th>\n",
              "      <th>Feature_22</th>\n",
              "      <th>Feature_23</th>\n",
              "      <th>Feature_24</th>\n",
              "      <th>Feature_25</th>\n",
              "      <th>Ret_MinusTwo</th>\n",
              "      <th>Ret_MinusOne</th>\n",
              "      <th>Ret_2</th>\n",
              "      <th>Ret_3</th>\n",
              "      <th>Ret_4</th>\n",
              "      <th>Ret_5</th>\n",
              "      <th>Ret_6</th>\n",
              "      <th>Ret_7</th>\n",
              "      <th>Ret_8</th>\n",
              "      <th>Ret_9</th>\n",
              "      <th>Ret_10</th>\n",
              "      <th>Ret_11</th>\n",
              "      <th>Ret_12</th>\n",
              "      <th>Ret_13</th>\n",
              "      <th>...</th>\n",
              "      <th>Ret_145</th>\n",
              "      <th>Ret_146</th>\n",
              "      <th>Ret_147</th>\n",
              "      <th>Ret_148</th>\n",
              "      <th>Ret_149</th>\n",
              "      <th>Ret_150</th>\n",
              "      <th>Ret_151</th>\n",
              "      <th>Ret_152</th>\n",
              "      <th>Ret_153</th>\n",
              "      <th>Ret_154</th>\n",
              "      <th>Ret_155</th>\n",
              "      <th>Ret_156</th>\n",
              "      <th>Ret_157</th>\n",
              "      <th>Ret_158</th>\n",
              "      <th>Ret_159</th>\n",
              "      <th>Ret_160</th>\n",
              "      <th>Ret_161</th>\n",
              "      <th>Ret_162</th>\n",
              "      <th>Ret_163</th>\n",
              "      <th>Ret_164</th>\n",
              "      <th>Ret_165</th>\n",
              "      <th>Ret_166</th>\n",
              "      <th>Ret_167</th>\n",
              "      <th>Ret_168</th>\n",
              "      <th>Ret_169</th>\n",
              "      <th>Ret_170</th>\n",
              "      <th>Ret_171</th>\n",
              "      <th>Ret_172</th>\n",
              "      <th>Ret_173</th>\n",
              "      <th>Ret_174</th>\n",
              "      <th>Ret_175</th>\n",
              "      <th>Ret_176</th>\n",
              "      <th>Ret_177</th>\n",
              "      <th>Ret_178</th>\n",
              "      <th>Ret_179</th>\n",
              "      <th>Ret_180</th>\n",
              "      <th>Ret_PlusOne</th>\n",
              "      <th>Ret_PlusTwo</th>\n",
              "      <th>Weight_Intraday</th>\n",
              "      <th>Weight_Daily</th>\n",
              "    </tr>\n",
              "  </thead>\n",
              "  <tbody>\n",
              "    <tr>\n",
              "      <th>0</th>\n",
              "      <td>1</td>\n",
              "      <td>3.59025</td>\n",
              "      <td>-0.117558</td>\n",
              "      <td>0.558392</td>\n",
              "      <td>0.405572</td>\n",
              "      <td>8.0</td>\n",
              "      <td>0.430972</td>\n",
              "      <td>75751</td>\n",
              "      <td>0.2254</td>\n",
              "      <td>11.0</td>\n",
              "      <td>4.744703</td>\n",
              "      <td>-0.572244</td>\n",
              "      <td>0.49</td>\n",
              "      <td>5.0</td>\n",
              "      <td>1.842984</td>\n",
              "      <td>27.053679</td>\n",
              "      <td>1.0</td>\n",
              "      <td>-0.549725</td>\n",
              "      <td>0.803059</td>\n",
              "      <td>-0.925463</td>\n",
              "      <td>2.0</td>\n",
              "      <td>0.605593</td>\n",
              "      <td>-0.489492</td>\n",
              "      <td>0.799833</td>\n",
              "      <td>-1.209290</td>\n",
              "      <td>-0.329675</td>\n",
              "      <td>0.055275</td>\n",
              "      <td>-0.010770</td>\n",
              "      <td>-0.010767</td>\n",
              "      <td>-0.011501</td>\n",
              "      <td>-0.012239</td>\n",
              "      <td>-0.012246</td>\n",
              "      <td>-0.011822</td>\n",
              "      <td>-0.011385</td>\n",
              "      <td>-0.011461</td>\n",
              "      <td>-0.010816</td>\n",
              "      <td>-0.010822</td>\n",
              "      <td>-0.010816</td>\n",
              "      <td>-0.010816</td>\n",
              "      <td>-0.010972</td>\n",
              "      <td>...</td>\n",
              "      <td>-0.000842</td>\n",
              "      <td>-0.001390</td>\n",
              "      <td>0.000148</td>\n",
              "      <td>2.846942e-04</td>\n",
              "      <td>0.001254</td>\n",
              "      <td>-0.000130</td>\n",
              "      <td>0.000126</td>\n",
              "      <td>0.000978</td>\n",
              "      <td>0.000151</td>\n",
              "      <td>0.002642</td>\n",
              "      <td>-0.000017</td>\n",
              "      <td>0.000140</td>\n",
              "      <td>0.000015</td>\n",
              "      <td>-0.000011</td>\n",
              "      <td>0.001683</td>\n",
              "      <td>-0.000286</td>\n",
              "      <td>0.000010</td>\n",
              "      <td>0.000152</td>\n",
              "      <td>0.000579</td>\n",
              "      <td>-1.501973e-04</td>\n",
              "      <td>0.000822</td>\n",
              "      <td>0.001392</td>\n",
              "      <td>0.000292</td>\n",
              "      <td>0.000002</td>\n",
              "      <td>0.001133</td>\n",
              "      <td>-0.000134</td>\n",
              "      <td>0.001539</td>\n",
              "      <td>-0.000142</td>\n",
              "      <td>0.000861</td>\n",
              "      <td>0.000544</td>\n",
              "      <td>-0.002688</td>\n",
              "      <td>0.002246</td>\n",
              "      <td>-0.000838</td>\n",
              "      <td>-6.953224e-04</td>\n",
              "      <td>0.000003</td>\n",
              "      <td>-0.001974</td>\n",
              "      <td>-0.019512</td>\n",
              "      <td>0.028846</td>\n",
              "      <td>1.251508e+06</td>\n",
              "      <td>1.564385e+06</td>\n",
              "    </tr>\n",
              "    <tr>\n",
              "      <th>1</th>\n",
              "      <td>2</td>\n",
              "      <td>3.59025</td>\n",
              "      <td>-0.117558</td>\n",
              "      <td>0.558392</td>\n",
              "      <td>0.405572</td>\n",
              "      <td>3.0</td>\n",
              "      <td>0.388896</td>\n",
              "      <td>17369</td>\n",
              "      <td>0.0166</td>\n",
              "      <td>13.0</td>\n",
              "      <td>4.744703</td>\n",
              "      <td>-0.409923</td>\n",
              "      <td>0.71</td>\n",
              "      <td>9.0</td>\n",
              "      <td>1.577586</td>\n",
              "      <td>9.546915</td>\n",
              "      <td>1.0</td>\n",
              "      <td>-0.949891</td>\n",
              "      <td>0.917958</td>\n",
              "      <td>-0.897067</td>\n",
              "      <td>9.0</td>\n",
              "      <td>0.886205</td>\n",
              "      <td>-0.151805</td>\n",
              "      <td>1.239856</td>\n",
              "      <td>0.953424</td>\n",
              "      <td>-0.709462</td>\n",
              "      <td>0.009748</td>\n",
              "      <td>0.002987</td>\n",
              "      <td>0.002500</td>\n",
              "      <td>0.002975</td>\n",
              "      <td>0.002976</td>\n",
              "      <td>0.002975</td>\n",
              "      <td>0.002451</td>\n",
              "      <td>0.002196</td>\n",
              "      <td>0.002188</td>\n",
              "      <td>0.002236</td>\n",
              "      <td>0.001924</td>\n",
              "      <td>0.001182</td>\n",
              "      <td>0.001173</td>\n",
              "      <td>0.000926</td>\n",
              "      <td>...</td>\n",
              "      <td>-0.000104</td>\n",
              "      <td>0.000555</td>\n",
              "      <td>0.000259</td>\n",
              "      <td>2.559339e-05</td>\n",
              "      <td>0.000004</td>\n",
              "      <td>-0.000255</td>\n",
              "      <td>0.000263</td>\n",
              "      <td>0.000250</td>\n",
              "      <td>0.000104</td>\n",
              "      <td>0.000119</td>\n",
              "      <td>-0.000483</td>\n",
              "      <td>0.000128</td>\n",
              "      <td>0.000886</td>\n",
              "      <td>0.000003</td>\n",
              "      <td>0.000148</td>\n",
              "      <td>0.000623</td>\n",
              "      <td>0.000507</td>\n",
              "      <td>-0.000742</td>\n",
              "      <td>-0.000514</td>\n",
              "      <td>8.881545e-07</td>\n",
              "      <td>0.000090</td>\n",
              "      <td>-0.000361</td>\n",
              "      <td>-0.000738</td>\n",
              "      <td>-0.000502</td>\n",
              "      <td>0.000497</td>\n",
              "      <td>0.000256</td>\n",
              "      <td>-0.000256</td>\n",
              "      <td>-0.000005</td>\n",
              "      <td>-0.000497</td>\n",
              "      <td>0.000240</td>\n",
              "      <td>-0.000129</td>\n",
              "      <td>0.000123</td>\n",
              "      <td>0.000248</td>\n",
              "      <td>3.315418e-07</td>\n",
              "      <td>0.000003</td>\n",
              "      <td>0.000027</td>\n",
              "      <td>-0.002939</td>\n",
              "      <td>-0.010253</td>\n",
              "      <td>1.733950e+06</td>\n",
              "      <td>2.167438e+06</td>\n",
              "    </tr>\n",
              "    <tr>\n",
              "      <th>2</th>\n",
              "      <td>3</td>\n",
              "      <td>3.59025</td>\n",
              "      <td>-0.696727</td>\n",
              "      <td>0.739591</td>\n",
              "      <td>-0.167928</td>\n",
              "      <td>9.0</td>\n",
              "      <td>0.471947</td>\n",
              "      <td>8277</td>\n",
              "      <td>0.3650</td>\n",
              "      <td>9.0</td>\n",
              "      <td>5.000000</td>\n",
              "      <td>-0.473024</td>\n",
              "      <td>0.03</td>\n",
              "      <td>6.0</td>\n",
              "      <td>1.871160</td>\n",
              "      <td>9.647559</td>\n",
              "      <td>1.0</td>\n",
              "      <td>-1.132426</td>\n",
              "      <td>1.799813</td>\n",
              "      <td>-1.603488</td>\n",
              "      <td>3.0</td>\n",
              "      <td>0.605593</td>\n",
              "      <td>0.389061</td>\n",
              "      <td>1.728096</td>\n",
              "      <td>-1.798090</td>\n",
              "      <td>-1.019370</td>\n",
              "      <td>0.003077</td>\n",
              "      <td>0.006181</td>\n",
              "      <td>0.005399</td>\n",
              "      <td>0.004997</td>\n",
              "      <td>0.005804</td>\n",
              "      <td>0.006204</td>\n",
              "      <td>0.006860</td>\n",
              "      <td>0.005683</td>\n",
              "      <td>0.006881</td>\n",
              "      <td>0.007491</td>\n",
              "      <td>0.006460</td>\n",
              "      <td>0.007107</td>\n",
              "      <td>0.006178</td>\n",
              "      <td>0.005634</td>\n",
              "      <td>...</td>\n",
              "      <td>-0.000003</td>\n",
              "      <td>-0.000102</td>\n",
              "      <td>-0.000292</td>\n",
              "      <td>5.032658e-04</td>\n",
              "      <td>-0.000126</td>\n",
              "      <td>-0.000135</td>\n",
              "      <td>0.000238</td>\n",
              "      <td>-0.000106</td>\n",
              "      <td>-0.000137</td>\n",
              "      <td>-0.000419</td>\n",
              "      <td>-0.000379</td>\n",
              "      <td>0.000013</td>\n",
              "      <td>0.000001</td>\n",
              "      <td>-0.000009</td>\n",
              "      <td>-0.000283</td>\n",
              "      <td>-0.000526</td>\n",
              "      <td>0.000247</td>\n",
              "      <td>-0.000134</td>\n",
              "      <td>0.000675</td>\n",
              "      <td>1.136847e-04</td>\n",
              "      <td>0.000234</td>\n",
              "      <td>-0.000506</td>\n",
              "      <td>-0.000007</td>\n",
              "      <td>-0.000249</td>\n",
              "      <td>0.000119</td>\n",
              "      <td>0.000277</td>\n",
              "      <td>0.000656</td>\n",
              "      <td>0.000127</td>\n",
              "      <td>0.000255</td>\n",
              "      <td>0.000278</td>\n",
              "      <td>-0.000524</td>\n",
              "      <td>-0.000394</td>\n",
              "      <td>0.000116</td>\n",
              "      <td>5.322557e-04</td>\n",
              "      <td>0.000274</td>\n",
              "      <td>0.000784</td>\n",
              "      <td>-0.024791</td>\n",
              "      <td>0.015711</td>\n",
              "      <td>1.529197e+06</td>\n",
              "      <td>1.911497e+06</td>\n",
              "    </tr>\n",
              "    <tr>\n",
              "      <th>3</th>\n",
              "      <td>4</td>\n",
              "      <td>3.59025</td>\n",
              "      <td>-0.694350</td>\n",
              "      <td>1.568248</td>\n",
              "      <td>0.479073</td>\n",
              "      <td>5.0</td>\n",
              "      <td>0.120653</td>\n",
              "      <td>22508</td>\n",
              "      <td>0.2654</td>\n",
              "      <td>13.0</td>\n",
              "      <td>5.000000</td>\n",
              "      <td>-2.138383</td>\n",
              "      <td>0.00</td>\n",
              "      <td>6.0</td>\n",
              "      <td>1.588524</td>\n",
              "      <td>1.801865</td>\n",
              "      <td>1.0</td>\n",
              "      <td>-1.131213</td>\n",
              "      <td>1.565036</td>\n",
              "      <td>-1.205438</td>\n",
              "      <td>7.0</td>\n",
              "      <td>1.148738</td>\n",
              "      <td>-2.440799</td>\n",
              "      <td>1.551425</td>\n",
              "      <td>-1.788725</td>\n",
              "      <td>-0.329675</td>\n",
              "      <td>0.000984</td>\n",
              "      <td>0.014106</td>\n",
              "      <td>0.014383</td>\n",
              "      <td>0.014295</td>\n",
              "      <td>0.014096</td>\n",
              "      <td>0.013795</td>\n",
              "      <td>0.014506</td>\n",
              "      <td>0.014074</td>\n",
              "      <td>0.013931</td>\n",
              "      <td>0.014271</td>\n",
              "      <td>0.013632</td>\n",
              "      <td>0.014052</td>\n",
              "      <td>0.014196</td>\n",
              "      <td>0.014066</td>\n",
              "      <td>...</td>\n",
              "      <td>0.000120</td>\n",
              "      <td>-0.000119</td>\n",
              "      <td>0.000285</td>\n",
              "      <td>-1.020028e-07</td>\n",
              "      <td>0.000285</td>\n",
              "      <td>-0.000350</td>\n",
              "      <td>0.000214</td>\n",
              "      <td>-0.000703</td>\n",
              "      <td>0.000153</td>\n",
              "      <td>-0.000286</td>\n",
              "      <td>0.000136</td>\n",
              "      <td>-0.000579</td>\n",
              "      <td>-0.000139</td>\n",
              "      <td>-0.000005</td>\n",
              "      <td>-0.000009</td>\n",
              "      <td>0.000010</td>\n",
              "      <td>0.000290</td>\n",
              "      <td>-0.000068</td>\n",
              "      <td>-0.000352</td>\n",
              "      <td>2.739541e-04</td>\n",
              "      <td>-0.000292</td>\n",
              "      <td>0.000446</td>\n",
              "      <td>0.000288</td>\n",
              "      <td>0.000001</td>\n",
              "      <td>0.000304</td>\n",
              "      <td>-0.000027</td>\n",
              "      <td>0.000371</td>\n",
              "      <td>-0.000055</td>\n",
              "      <td>-0.000161</td>\n",
              "      <td>-0.000155</td>\n",
              "      <td>0.000346</td>\n",
              "      <td>-0.000090</td>\n",
              "      <td>0.000288</td>\n",
              "      <td>-1.281102e-04</td>\n",
              "      <td>0.000074</td>\n",
              "      <td>0.000341</td>\n",
              "      <td>-0.005680</td>\n",
              "      <td>-0.002190</td>\n",
              "      <td>1.711569e+06</td>\n",
              "      <td>2.139462e+06</td>\n",
              "    </tr>\n",
              "    <tr>\n",
              "      <th>4</th>\n",
              "      <td>5</td>\n",
              "      <td>6.00000</td>\n",
              "      <td>-1.736489</td>\n",
              "      <td>2.765531</td>\n",
              "      <td>1.245280</td>\n",
              "      <td>7.0</td>\n",
              "      <td>4.866985</td>\n",
              "      <td>22423</td>\n",
              "      <td>0.2138</td>\n",
              "      <td>13.0</td>\n",
              "      <td>4.000000</td>\n",
              "      <td>-4.795565</td>\n",
              "      <td>0.97</td>\n",
              "      <td>5.0</td>\n",
              "      <td>0.842102</td>\n",
              "      <td>9.198895</td>\n",
              "      <td>1.0</td>\n",
              "      <td>6.317498</td>\n",
              "      <td>-3.208872</td>\n",
              "      <td>-1.102189</td>\n",
              "      <td>7.0</td>\n",
              "      <td>3.381040</td>\n",
              "      <td>1.732708</td>\n",
              "      <td>1.965189</td>\n",
              "      <td>-5.993092</td>\n",
              "      <td>3.219820</td>\n",
              "      <td>-0.018224</td>\n",
              "      <td>0.011065</td>\n",
              "      <td>0.009833</td>\n",
              "      <td>0.009835</td>\n",
              "      <td>0.008630</td>\n",
              "      <td>0.008609</td>\n",
              "      <td>0.008614</td>\n",
              "      <td>0.009237</td>\n",
              "      <td>0.007394</td>\n",
              "      <td>0.007399</td>\n",
              "      <td>0.008625</td>\n",
              "      <td>0.009838</td>\n",
              "      <td>0.007410</td>\n",
              "      <td>0.008383</td>\n",
              "      <td>...</td>\n",
              "      <td>-0.000979</td>\n",
              "      <td>0.000978</td>\n",
              "      <td>-0.000014</td>\n",
              "      <td>-1.218838e-03</td>\n",
              "      <td>0.001208</td>\n",
              "      <td>-0.000013</td>\n",
              "      <td>-0.000620</td>\n",
              "      <td>0.000606</td>\n",
              "      <td>-0.001238</td>\n",
              "      <td>0.000002</td>\n",
              "      <td>0.000003</td>\n",
              "      <td>-0.001226</td>\n",
              "      <td>0.001005</td>\n",
              "      <td>-0.000008</td>\n",
              "      <td>0.000231</td>\n",
              "      <td>-0.000006</td>\n",
              "      <td>-0.001212</td>\n",
              "      <td>0.000005</td>\n",
              "      <td>0.001220</td>\n",
              "      <td>-1.221212e-03</td>\n",
              "      <td>-0.000016</td>\n",
              "      <td>-0.000007</td>\n",
              "      <td>0.001222</td>\n",
              "      <td>0.000018</td>\n",
              "      <td>-0.001219</td>\n",
              "      <td>0.000006</td>\n",
              "      <td>0.001214</td>\n",
              "      <td>0.001221</td>\n",
              "      <td>-0.000005</td>\n",
              "      <td>-0.000007</td>\n",
              "      <td>-0.001235</td>\n",
              "      <td>0.000027</td>\n",
              "      <td>0.002449</td>\n",
              "      <td>8.619882e-06</td>\n",
              "      <td>0.001209</td>\n",
              "      <td>-0.000004</td>\n",
              "      <td>0.036104</td>\n",
              "      <td>-0.026552</td>\n",
              "      <td>1.267270e+06</td>\n",
              "      <td>1.584088e+06</td>\n",
              "    </tr>\n",
              "  </tbody>\n",
              "</table>\n",
              "<p>5 rows × 211 columns</p>\n",
              "</div>"
            ],
            "text/plain": [
              "   Id  Feature_1  Feature_2  ...  Ret_PlusTwo  Weight_Intraday  Weight_Daily\n",
              "0   1    3.59025  -0.117558  ...     0.028846     1.251508e+06  1.564385e+06\n",
              "1   2    3.59025  -0.117558  ...    -0.010253     1.733950e+06  2.167438e+06\n",
              "2   3    3.59025  -0.696727  ...     0.015711     1.529197e+06  1.911497e+06\n",
              "3   4    3.59025  -0.694350  ...    -0.002190     1.711569e+06  2.139462e+06\n",
              "4   5    6.00000  -1.736489  ...    -0.026552     1.267270e+06  1.584088e+06\n",
              "\n",
              "[5 rows x 211 columns]"
            ]
          },
          "metadata": {
            "tags": []
          },
          "execution_count": 37
        }
      ]
    },
    {
      "cell_type": "code",
      "metadata": {
        "id": "0R_NZS1woDL8",
        "colab_type": "code",
        "colab": {}
      },
      "source": [
        "xscale = np.reshape(xscale, (xscale.shape[0], xscale.shape[1], 1))"
      ],
      "execution_count": 0,
      "outputs": []
    },
    {
      "cell_type": "code",
      "metadata": {
        "colab_type": "code",
        "id": "_VbMxgR-LMDe",
        "colab": {}
      },
      "source": [
        "from keras.models import Sequential\n",
        "from keras.layers import Dense\n",
        "from keras.layers import LSTM\n",
        "from keras.layers import Dropout\n"
      ],
      "execution_count": 0,
      "outputs": []
    },
    {
      "cell_type": "code",
      "metadata": {
        "id": "2tIjct7hLSvH",
        "colab_type": "code",
        "colab": {}
      },
      "source": [
        "regressor = Sequential()\n",
        "regressor.add(LSTM(units = 10, return_sequences = True, input_shape = (xscale.shape[1],1)))\n",
        "regressor.add(Dropout(0.025))\n",
        "\n",
        "regressor.add(LSTM(units = 10, return_sequences = True))\n",
        "regressor.add(Dropout(0.025))\n",
        "\n",
        "regressor.add(LSTM(units = 10, return_sequences = True))\n",
        "regressor.add(Dropout(0.025))\n",
        "\n",
        "regressor.add(LSTM(units = 10))\n",
        "regressor.add(Dropout(0.025))\n",
        "\n",
        "regressor.add(Dense(units = 1))"
      ],
      "execution_count": 0,
      "outputs": []
    },
    {
      "cell_type": "code",
      "metadata": {
        "id": "7xNwUywcLgo5",
        "colab_type": "code",
        "colab": {}
      },
      "source": [
        "regressor.compile(optimizer = 'adam', loss = 'mean_squared_error', metrics=['mse', 'mae'])"
      ],
      "execution_count": 0,
      "outputs": []
    },
    {
      "cell_type": "code",
      "metadata": {
        "id": "92WUpQmILvu3",
        "colab_type": "code",
        "outputId": "1c5709a9-9516-4711-a510-8b5f5e6bc5db",
        "colab": {
          "base_uri": "https://localhost:8080/",
          "height": 211
        }
      },
      "source": [
        "regressor.fit(xscale, ynew, epochs = 5, batch_size =50 ) #optimizer = 'adam', loss = 'mean_squared_error', metrics=['mse', 'mae']\n",
        "xscale = np.reshape(xscale, (xscale.shape[0], xscale.shape[1], 1))\n",
        "predict_stock_price1 = regressor.predict(xscale)"
      ],
      "execution_count": 0,
      "outputs": [
        {
          "output_type": "stream",
          "text": [
            "Epoch 1/5\n",
            "120000/120000 [==============================] - 381s 3ms/step - loss: 1.5750e-06 - mean_squared_error: 1.5750e-06 - mean_absolute_error: 7.5137e-04\n",
            "Epoch 2/5\n",
            "120000/120000 [==============================] - 381s 3ms/step - loss: 1.0494e-06 - mean_squared_error: 1.0494e-06 - mean_absolute_error: 6.4836e-04\n",
            "Epoch 3/5\n",
            "120000/120000 [==============================] - 382s 3ms/step - loss: 1.0041e-06 - mean_squared_error: 1.0041e-06 - mean_absolute_error: 6.1749e-04\n",
            "Epoch 4/5\n",
            "120000/120000 [==============================] - 381s 3ms/step - loss: 9.6748e-07 - mean_squared_error: 9.6748e-07 - mean_absolute_error: 5.9213e-04\n",
            "Epoch 5/5\n",
            "120000/120000 [==============================] - 380s 3ms/step - loss: 9.5774e-07 - mean_squared_error: 9.5774e-07 - mean_absolute_error: 5.8582e-04\n"
          ],
          "name": "stdout"
        }
      ]
    },
    {
      "cell_type": "code",
      "metadata": {
        "id": "jTqEtFWgMLQI",
        "colab_type": "code",
        "outputId": "107b5619-39f9-4b8b-cc81-012615657e45",
        "colab": {
          "base_uri": "https://localhost:8080/",
          "height": 417
        }
      },
      "source": [
        "plt.plot(predict_stock_price1)\n",
        "plt.plot(ynew)\n",
        "plt.title('model loss')\n",
        "plt.ylabel('Value')\n",
        "plt.xlabel('Data Points')\n",
        "plt.legend(['Predict', 'Real'], loc='upper left')\n",
        "plt.show()\n",
        "\n",
        "predict_stock_price1"
      ],
      "execution_count": 0,
      "outputs": [
        {
          "output_type": "display_data",
          "data": {
            "image/png": "[encoded data removed]",
            "text/plain": [
              "<Figure size 432x288 with 1 Axes>"
            ]
          },
          "metadata": {
            "tags": []
          }
        },
        {
          "output_type": "execute_result",
          "data": {
            "text/plain": [
              "array([[-0.00018277],\n",
              "       [-0.0001808 ],\n",
              "       [-0.00018328],\n",
              "       ...,\n",
              "       [-0.00018785],\n",
              "       [-0.00018224],\n",
              "       [-0.00018004]], dtype=float32)"
            ]
          },
          "metadata": {
            "tags": []
          },
          "execution_count": 43
        }
      ]
    },
    {
      "cell_type": "code",
      "metadata": {
        "colab_type": "code",
        "id": "ouQNJjQHLMDg",
        "colab": {}
      },
      "source": [
        "#rows = zip(ynew, Ynew , predicted_stockTYJ)"
      ],
      "execution_count": 0,
      "outputs": []
    }
  ]
}